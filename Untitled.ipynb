{
 "cells": [
  {
   "cell_type": "code",
   "execution_count": 2,
   "id": "332f452d-7992-4743-9f96-fcf4f8c1d7f3",
   "metadata": {},
   "outputs": [],
   "source": [
    "from langchain_core.prompts import ChatPromptTemplate\n",
    "from langchain_openai import ChatOpenAI\n",
    "from langchain_core.output_parsers import StrOutputParser\n",
    "from langchain_community.document_loaders import PyMuPDFLoader\n",
    "from langchain_text_splitters import RecursiveCharacterTextSplitter\n",
    "from langchain_community.vectorstores import FAISS\n",
    "from langchain_core.runnables import RunnablePassthrough\n",
    "from langchain_huggingface.embeddings import HuggingFaceEndpointEmbeddings\n",
    "\n",
    "from getpass import getpass"
   ]
  },
  {
   "cell_type": "code",
   "execution_count": 3,
   "id": "aab77a37-9998-4e7d-bad0-2ac390f7209e",
   "metadata": {},
   "outputs": [
    {
     "name": "stdin",
     "output_type": "stream",
     "text": [
      "Your openrouter key:  ········\n"
     ]
    }
   ],
   "source": [
    "api_key = getpass('Your openrouter key: ')\n",
    "base_url = 'https://openrouter.ai/api/v1'"
   ]
  },
  {
   "cell_type": "code",
   "execution_count": 4,
   "id": "4fb102c9-803e-4ef1-a126-004d53cf9110",
   "metadata": {},
   "outputs": [],
   "source": [
    "llm = ChatOpenAI(\n",
    "    model='qwen/qwen3-coder:free',\n",
    "    api_key=api_key,\n",
    "    base_url=base_url,\n",
    "    temperature=0\n",
    ")"
   ]
  },
  {
   "cell_type": "code",
   "execution_count": 7,
   "id": "2e122ac0-bbae-4b9d-b534-04069ad94dcd",
   "metadata": {},
   "outputs": [
    {
     "name": "stdin",
     "output_type": "stream",
     "text": [
      "hug_api:  ········\n"
     ]
    }
   ],
   "source": [
    "model_name = \"intfloat/multilingual-e5-large-instruct\"\n",
    "\n",
    "hf_endpoint_embeddings = HuggingFaceEndpointEmbeddings(\n",
    "    model=model_name,\n",
    "    task=\"feature-extraction\",\n",
    "    huggingfacehub_api_token=getpass('hug_api: '),\n",
    ")"
   ]
  },
  {
   "cell_type": "code",
   "execution_count": 8,
   "id": "a96f2fc1-021a-450b-a019-443b83bce611",
   "metadata": {},
   "outputs": [],
   "source": [
    "loader = PyMuPDFLoader('deeplearningbook-ml.pdf')\n",
    "doc = loader.load()\n",
    "\n",
    "text_splitter = RecursiveCharacterTextSplitter(chunk_size=1000, chunk_overlap=50)\n",
    "chunks = text_splitter.split_documents(doc)\n",
    "\n",
    "vectorsotre = FAISS.from_documents(documents=chunks, embedding=hf_endpoint_embeddings)"
   ]
  },
  {
   "cell_type": "code",
   "execution_count": 9,
   "id": "91f791f6-879d-4840-8fb4-d98f15bbae41",
   "metadata": {},
   "outputs": [],
   "source": [
    "retvier = vectorsotre.as_retriever()"
   ]
  },
  {
   "cell_type": "code",
   "execution_count": 12,
   "id": "44e3e546-af23-4133-8a8b-84e6cd2c2d72",
   "metadata": {},
   "outputs": [],
   "source": [
    "prompt = ChatPromptTemplate.from_messages(\n",
    "    [\n",
    "        ('system', \"\"\"You are an assistant for question-answering tasks about ML. \n",
    "Use the following pieces of retrieved context to answer the question. \n",
    "If you don't know the answer or dont have context - not answer, just say that you don't know.\n",
    "\n",
    "#Context: \n",
    "{context}\n",
    "\"\"\"), \n",
    "        ('human', '{question}')\n",
    "    ]\n",
    ")\n",
    "\n",
    "chain = (\n",
    "    {'context': retvier, 'question': RunnablePassthrough()} |\n",
    "    prompt | \n",
    "    llm | \n",
    "    StrOutputParser()\n",
    ")"
   ]
  },
  {
   "cell_type": "code",
   "execution_count": 13,
   "id": "f11d22c4-a562-4933-b086-ff7554176372",
   "metadata": {},
   "outputs": [
    {
     "name": "stdin",
     "output_type": "stream",
     "text": [
      "Your question: Tell about football\n"
     ]
    },
    {
     "name": "stdout",
     "output_type": "stream",
     "text": [
      "I don't know. The provided context is about machine learning and does not contain any information about football.\n"
     ]
    },
    {
     "name": "stdin",
     "output_type": "stream",
     "text": [
      "Your question: Tell me about cats\n"
     ]
    },
    {
     "name": "stdout",
     "output_type": "stream",
     "text": [
      "I don't know. The provided context does not contain any information about cats.\n"
     ]
    },
    {
     "name": "stdin",
     "output_type": "stream",
     "text": [
      "Your question: Tell me about Cross-Validation\n"
     ]
    },
    {
     "name": "stdout",
     "output_type": "stream",
     "text": [
      "Cross-validation is a technique used in machine learning to estimate the generalization error of a model and to perform model selection, especially when the dataset is too small for a single train/validation/test split. It involves partitioning the dataset into subsets and repeating the training and testing process on different combinations of these subsets.\n",
      "\n",
      "### K-Fold Cross-Validation\n",
      "One of the most common forms is **k-fold cross-validation**. In this approach:\n",
      "- The dataset is divided into **k non-overlapping subsets** (or folds) of approximately equal size.\n",
      "- The model is trained and tested **k times**. In each trial:\n",
      "  - One fold is used as the **test set**.\n",
      "  - The remaining **k-1 folds** are used as the **training set**.\n",
      "- The **generalization error** is estimated by averaging the test errors across all k trials.\n",
      "\n",
      "This method helps in utilizing the data more effectively for both training and testing, providing a more reliable estimate of model performance.\n",
      "\n",
      "### Double K-Fold Cross-Validation\n",
      "An extension of k-fold cross-validation is **double k-fold cross-validation**, which serves two purposes:\n",
      "1. **Model Selection**: It uses k-fold cross-validation to choose the best learning algorithm or hyperparameters from a set of candidates.\n",
      "2. **Estimating Generalization Error**: It estimates the generalization error of the model selection process itself.\n",
      "\n",
      "This is particularly useful when the dataset is too small to allow for separate training, validation, and test sets. Double k-fold cross-validation involves nested loops of cross-validation:\n",
      "- The **outer loop** estimates the performance of the model selection procedure.\n",
      "- The **inner loop** performs model selection.\n",
      "\n",
      "At the end of the process, the algorithm returns a vector of errors for each example in the dataset. The mean of these errors is the estimated generalization error, and the individual errors can be used to estimate uncertainty or compare different learning algorithms.\n",
      "\n",
      "### Limitations\n",
      "One notable limitation is that there are **no unbiased estimators** for the variance of the average error estimators obtained from k-fold cross-validation. However, approximations are typically used in practice to estimate this variance.\n",
      "\n",
      "In summary, cross-validation, particularly k-fold and double k-fold, is a robust method for model evaluation and selection, especially when working with limited data.\n"
     ]
    },
    {
     "ename": "KeyboardInterrupt",
     "evalue": "Interrupted by user",
     "output_type": "error",
     "traceback": [
      "\u001b[31m---------------------------------------------------------------------------\u001b[39m",
      "\u001b[31mKeyboardInterrupt\u001b[39m                         Traceback (most recent call last)",
      "\u001b[36mCell\u001b[39m\u001b[36m \u001b[39m\u001b[32mIn[13]\u001b[39m\u001b[32m, line 2\u001b[39m\n\u001b[32m      1\u001b[39m \u001b[38;5;28;01mwhile\u001b[39;00m \u001b[32m1\u001b[39m:\n\u001b[32m----> \u001b[39m\u001b[32m2\u001b[39m     \u001b[38;5;28mprint\u001b[39m(chain.invoke(\u001b[38;5;28;43minput\u001b[39;49m\u001b[43m(\u001b[49m\u001b[33;43m'\u001b[39;49m\u001b[33;43mYour question:\u001b[39;49m\u001b[33;43m'\u001b[39;49m\u001b[43m)\u001b[49m))\n",
      "\u001b[36mFile \u001b[39m\u001b[32m~\\AppData\\Local\\Programs\\Python\\Python313\\Lib\\site-packages\\ipykernel\\kernelbase.py:1282\u001b[39m, in \u001b[36mKernel.raw_input\u001b[39m\u001b[34m(self, prompt)\u001b[39m\n\u001b[32m   1280\u001b[39m     msg = \u001b[33m\"\u001b[39m\u001b[33mraw_input was called, but this frontend does not support input requests.\u001b[39m\u001b[33m\"\u001b[39m\n\u001b[32m   1281\u001b[39m     \u001b[38;5;28;01mraise\u001b[39;00m StdinNotImplementedError(msg)\n\u001b[32m-> \u001b[39m\u001b[32m1282\u001b[39m \u001b[38;5;28;01mreturn\u001b[39;00m \u001b[38;5;28;43mself\u001b[39;49m\u001b[43m.\u001b[49m\u001b[43m_input_request\u001b[49m\u001b[43m(\u001b[49m\n\u001b[32m   1283\u001b[39m \u001b[43m    \u001b[49m\u001b[38;5;28;43mstr\u001b[39;49m\u001b[43m(\u001b[49m\u001b[43mprompt\u001b[49m\u001b[43m)\u001b[49m\u001b[43m,\u001b[49m\n\u001b[32m   1284\u001b[39m \u001b[43m    \u001b[49m\u001b[38;5;28;43mself\u001b[39;49m\u001b[43m.\u001b[49m\u001b[43m_parent_ident\u001b[49m\u001b[43m[\u001b[49m\u001b[33;43m\"\u001b[39;49m\u001b[33;43mshell\u001b[39;49m\u001b[33;43m\"\u001b[39;49m\u001b[43m]\u001b[49m\u001b[43m,\u001b[49m\n\u001b[32m   1285\u001b[39m \u001b[43m    \u001b[49m\u001b[38;5;28;43mself\u001b[39;49m\u001b[43m.\u001b[49m\u001b[43mget_parent\u001b[49m\u001b[43m(\u001b[49m\u001b[33;43m\"\u001b[39;49m\u001b[33;43mshell\u001b[39;49m\u001b[33;43m\"\u001b[39;49m\u001b[43m)\u001b[49m\u001b[43m,\u001b[49m\n\u001b[32m   1286\u001b[39m \u001b[43m    \u001b[49m\u001b[43mpassword\u001b[49m\u001b[43m=\u001b[49m\u001b[38;5;28;43;01mFalse\u001b[39;49;00m\u001b[43m,\u001b[49m\n\u001b[32m   1287\u001b[39m \u001b[43m\u001b[49m\u001b[43m)\u001b[49m\n",
      "\u001b[36mFile \u001b[39m\u001b[32m~\\AppData\\Local\\Programs\\Python\\Python313\\Lib\\site-packages\\ipykernel\\kernelbase.py:1325\u001b[39m, in \u001b[36mKernel._input_request\u001b[39m\u001b[34m(self, prompt, ident, parent, password)\u001b[39m\n\u001b[32m   1322\u001b[39m \u001b[38;5;28;01mexcept\u001b[39;00m \u001b[38;5;167;01mKeyboardInterrupt\u001b[39;00m:\n\u001b[32m   1323\u001b[39m     \u001b[38;5;66;03m# re-raise KeyboardInterrupt, to truncate traceback\u001b[39;00m\n\u001b[32m   1324\u001b[39m     msg = \u001b[33m\"\u001b[39m\u001b[33mInterrupted by user\u001b[39m\u001b[33m\"\u001b[39m\n\u001b[32m-> \u001b[39m\u001b[32m1325\u001b[39m     \u001b[38;5;28;01mraise\u001b[39;00m \u001b[38;5;167;01mKeyboardInterrupt\u001b[39;00m(msg) \u001b[38;5;28;01mfrom\u001b[39;00m\u001b[38;5;250m \u001b[39m\u001b[38;5;28;01mNone\u001b[39;00m\n\u001b[32m   1326\u001b[39m \u001b[38;5;28;01mexcept\u001b[39;00m \u001b[38;5;167;01mException\u001b[39;00m:\n\u001b[32m   1327\u001b[39m     \u001b[38;5;28mself\u001b[39m.log.warning(\u001b[33m\"\u001b[39m\u001b[33mInvalid Message:\u001b[39m\u001b[33m\"\u001b[39m, exc_info=\u001b[38;5;28;01mTrue\u001b[39;00m)\n",
      "\u001b[31mKeyboardInterrupt\u001b[39m: Interrupted by user"
     ]
    }
   ],
   "source": [
    "while 1:\n",
    "    print(chain.invoke(input('Your question:')))"
   ]
  }
 ],
 "metadata": {
  "kernelspec": {
   "display_name": "Python 3 (ipykernel)",
   "language": "python",
   "name": "python3"
  },
  "language_info": {
   "codemirror_mode": {
    "name": "ipython",
    "version": 3
   },
   "file_extension": ".py",
   "mimetype": "text/x-python",
   "name": "python",
   "nbconvert_exporter": "python",
   "pygments_lexer": "ipython3",
   "version": "3.13.3"
  }
 },
 "nbformat": 4,
 "nbformat_minor": 5
}
